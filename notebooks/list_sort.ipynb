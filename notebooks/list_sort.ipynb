{
 "cells": [
  {
   "cell_type": "code",
   "execution_count": null,
   "metadata": {},
   "outputs": [],
   "source": [
    "dicts_lists = [\n",
    "  {\n",
    "    \"Name\": \"James\",\n",
    "    \"Age\": 20,\n",
    "  },\n",
    "  {\n",
    "     \"Name\": \"May\",\n",
    "     \"Age\": 14,\n",
    "  },\n",
    "  {\n",
    "    \"Name\": \"Katy\",\n",
    "    \"Age\": 23,\n",
    "  }\n",
    "]\n",
    "\n",
    "#There are different ways to sort that list\n",
    "#1- Using the sort/ sorted function based on the age\n",
    "#dicts_lists.sort(key=lambda item: item.get(\"Age\"))\n",
    "\n",
    "#2- Using itemgetter module based on name\n",
    "from operator import itemgetter\n",
    "f = itemgetter('Name')\n",
    "dicts_lists.sort(key=f)"
   ]
  },
  {
   "cell_type": "code",
   "execution_count": null,
   "metadata": {},
   "outputs": [
    {
     "data": {
      "text/plain": [
       "[{'Name': 'James', 'Age': 20}, {'Name': 'Katy', 'Age': 23}, {'Name': 'May', 'Age': 14}]\n"
      ]
     },
     "metadata": {},
     "output_type": "display_data"
    }
   ],
   "source": [
    "print(dicts_lists)"
   ]
  },
  {
   "cell_type": "code",
   "execution_count": null,
   "metadata": {},
   "outputs": [],
   "source": []
  }
 ],
 "metadata": {
  "language_info": {
   "name": "python"
  }
 },
 "nbformat": 4,
 "nbformat_minor": 2
}
